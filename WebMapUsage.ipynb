{
 "cells": [
  {
   "cell_type": "markdown",
   "metadata": {},
   "source": [
    "# ArcGIS Online Item Usage Audit\n",
    "\n",
    "Description: This will search the organization to find item usage over the last year (the longest the Esri Usage function returns)\n",
    " \n",
    "Created on: 3/16/2020\n",
    " \n",
    "Purpose: As organizations create items in ArcGIS Online it may become appropriate to gauge how much items are used and if it is apprpriate to replace, depricate or remove them entirely. This script will help with that by providing the number of item usage over time.\n",
    "This relies heavily on the ArcGIS API for Python Usage function:\n",
    "https://developers.arcgis.com/python/api-reference/arcgis.gis.toc.html#arcgis.gis.Item.usage\n",
    " \n",
    "Authored by: Rick Frantz"
   ]
  },
  {
   "cell_type": "markdown",
   "metadata": {},
   "source": [
    "# Connect to ArcGIS Online"
   ]
  },
  {
   "cell_type": "code",
   "execution_count": null,
   "metadata": {},
   "outputs": [],
   "source": [
    "# imports\n",
    "from arcgis.gis import GIS\n",
    "import getpass\n",
    "#from IPython.display import display\n",
    "#from arcgis.mapping import WebMap\n",
    "\n",
    "# Connection Variables\n",
    "Organization = input(\"What's your oranization? \")\n",
    "User = input(\"What's your  username? \")\n",
    "Password = getpass.getpass('Password: ')\n",
    "\n",
    "# Connection\n",
    "gis = GIS(Organization, User, Password, verify_cert=False)\n",
    "\n",
    "MaxSearch = 9999    # Can change this number for testing purposes\n",
    "Audit = gis.content.search(query=\"\", max_items = MaxSearch)\n",
    "\n",
    "auditLen = len(Audit)\n",
    "if auditLen >= MaxSearch:\n",
    "    print(\"The maximum number of records has been reached.\")\n",
    "print(\"Found {} items to asses\".format(auditLen))\n",
    "\n",
    "# Get the date of 30 days ago\n",
    "from datetime import datetime, timedelta\n",
    "tday = datetime.now().date()\n",
    "lastMonth = datetime.today() - timedelta(days=31) # because time is maintained, 31 days in query = 30 days of data\n",
    "\n",
    "# Create the pandas dataframe\n",
    "import pandas as pd\n",
    "problemItems = []\n",
    "dataColumns = ['ItemTitle','ItemID','ItemType','Owner','Year_Views','Month_Views','LastUsed','Last_Searched']\n",
    "df = pd.DataFrame(columns = dataColumns)\n",
    "lused = None\n",
    "\n",
    "# get list of item ids\n",
    "prevIDs = []"
   ]
  },
  {
   "cell_type": "markdown",
   "metadata": {},
   "source": [
    "# Past Results to Import?"
   ]
  },
  {
   "cell_type": "code",
   "execution_count": null,
   "metadata": {},
   "outputs": [],
   "source": [
    "###     The audit can take a while to evaluate the usage of many items.\n",
    "###     It may be helpful to skip items evaluated not long ago.\n",
    "###     If the script has run prior and output a *.csv to file you can import those results to skip\n",
    "###     items evaluated after the refreshCutOff_date variable\n",
    "\n",
    "from tkinter import filedialog\n",
    "\n",
    "prvdf = filedialog.askopenfilename()\n",
    "\n",
    "prvdf = pd.read_csv (prvdf)\n",
    "\n",
    "if (df.columns == prvdf.columns).all:\n",
    "    # code to drop if too old\n",
    "    refreshCutOff_date = '2021-09-01'\n",
    "\n",
    "    prvdf['Last_Searched'] = pd.to_datetime(prvdf['Last_Searched']) # Convert the date to datetime64 \n",
    "    filtered_df = prvdf.loc[(prvdf['Last_Searched'] >= refreshCutOff_date)] # Filter data by date\n",
    "\n",
    "    prevIDs = filtered_df['ItemID'].tolist()\n",
    "\n",
    "    print(\"Initially found {} items to asses in AGO\".format(auditLen))\n",
    "    print(\"A csv containing {} items previously assessed was provided\".format(prvdf.shape[0]))\n",
    "    print(\"This csv was limited to {} items already recently assessed\".format(filtered_df.shape[0]))\n",
    "    \n",
    "    newItems = 0\n",
    "    oldItems = 0\n",
    "\n",
    "    for Item in Audit:\n",
    "        if Item.id not in prevIDs:\n",
    "            newItems += 1\n",
    "        else:\n",
    "            oldItems += 1\n",
    "\n",
    "    print(\"newItems: {} will be assesed in AGO\".format(str(newItems)))\n",
    "    print(\"oldItems: {} will be skipped\".format(str(oldItems)))\n",
    "    \n",
    "    df = filtered_df\n",
    "    \n",
    "else:\n",
    "    print(\"The columns of the previous csv don't match current columns\")"
   ]
  },
  {
   "cell_type": "markdown",
   "metadata": {},
   "source": [
    "# Audit Section"
   ]
  },
  {
   "cell_type": "code",
   "execution_count": null,
   "metadata": {
    "scrolled": true
   },
   "outputs": [],
   "source": [
    "###     This is where the evaluation of usage is performed\n",
    "\n",
    "# Find the number of views\n",
    "for Item in Audit:\n",
    "    #print(\"Starting Item {}\".format(Item.id))\n",
    "    if Item.id not in prevIDs:\n",
    "        try:\n",
    "            # print(\"The item has not been assessed recently\")\n",
    "            ItemID = Item.id\n",
    "            gisItem = gis.content.get(ItemID)\n",
    "            ydf = gisItem.usage(date_range='1Y', as_df=True)\n",
    "            if len(ydf.index) > 0:\n",
    "                ydf = ydf.loc[ydf['Usage']!=0]\n",
    "                ydf['Year_Views']=ydf['Usage'].sum()\n",
    "                yViews =(ydf.iloc[0]['Year_Views'])\n",
    "                lused = ydf['Date'].max()\n",
    "                ydf = ydf[(ydf['Date'] > lastMonth)]\n",
    "                if len(ydf.index) > 0:\n",
    "                    ydf['Month_Views']=ydf['Usage'].sum()\n",
    "                    mViews =(ydf.iloc[0]['Month_Views'])\n",
    "                else:\n",
    "                    mViews = 0\n",
    "            else:\n",
    "                yViews = 0\n",
    "                mViews = 0\n",
    "\n",
    "            # Add the item record with views to the dataframe\n",
    "            df = df.append({\n",
    "            'ItemTitle':str(Item.title.replace(\",\", \"\")),\n",
    "            'ItemID':str(Item.id),\n",
    "            'ItemType':str(Item.type),\n",
    "            'Owner':str(Item.owner),\n",
    "            'Year_Views':yViews,\n",
    "            'Month_Views':mViews,\n",
    "            'LastUsed':lused,\n",
    "            'Last_Searched':tday\n",
    "            }, ignore_index=True)\n",
    "\n",
    "            # A little cleanup\n",
    "            del yViews\n",
    "            del mViews\n",
    "            lused = None\n",
    "            ydf = ydf.iloc[0:0]\n",
    "        except:\n",
    "            problemItems.append(Item.id)\n",
    "    else:\n",
    "        print(\"Item already assessed recently\")\n",
    "        pass\n",
    "\n",
    "if len(problemItems)> 0:\n",
    "    print(\"Found {} items with issues NOT included in dataframe\".format(len(problemItems)))\n",
    "    print(\"Output the problemItems list for specifics\")\n",
    "df.drop_duplicates(subset=dataColumns,inplace=True)\n",
    "df"
   ]
  },
  {
   "cell_type": "markdown",
   "metadata": {},
   "source": [
    "# Write the Audit Results to CSV"
   ]
  },
  {
   "cell_type": "code",
   "execution_count": null,
   "metadata": {},
   "outputs": [],
   "source": [
    "###     This section outputs a *.csv to file to skip recent results in a future execution\n",
    "\n",
    "from tkinter.filedialog import asksaveasfilename\n",
    "filename = asksaveasfilename(defaultextension='.csv') # show an \"Open\" dialog box and return the path to the selected file\n",
    "print(filename)\n",
    "df.to_csv(filename, index=False)\n",
    "print(\"Write data To CSV File Complete!\")"
   ]
  },
  {
   "cell_type": "markdown",
   "metadata": {},
   "source": [
    "# Upload to AGO"
   ]
  },
  {
   "cell_type": "code",
   "execution_count": null,
   "metadata": {},
   "outputs": [],
   "source": [
    "###     It can be helpful to store the results themselves in ArcGIS Online (AGO).\n",
    "###     This section will take the results and upload to AGO.\n",
    "###     If this has been performed prior it will use the overwrite function to update the results,\n",
    "###     otherwise it will upload and publish a new dataset\n",
    "\n",
    "# Create a temporary *.csv\n",
    "import os, tempfile\n",
    "tempdir = tempfile.TemporaryDirectory(suffix=None, prefix=None, dir=None)\n",
    "print (tempdir)\n",
    "\n",
    "### if executing manually, you can input the item name\n",
    "# csvName = input(\"What do you want to call the csv? \")\n",
    "\n",
    "### if executing on a schedule, hardcode the name of the *.csv\n",
    "csvName = \"AGOitemUsage\"\n",
    "\n",
    "csvpath = (os.path.join(tempdir.name, csvName + \".csv\"))\n",
    "print (csvpath)\n",
    "df.to_csv(csvpath, index=False)\n",
    "\n",
    "#Find out if it is already in AGO\n",
    "prevCSV = gis.content.search(query=\"AGOitemUsage\", item_type=\"Feature Layer Collection\", max_items = 1)\n",
    "if prevCSV:\n",
    "    print(\"Found a previous csv in AGO\")\n",
    "    prevCSV = prevCSV[0]\n",
    "    display(prevCSV)\n",
    "    from arcgis.features import FeatureLayerCollection\n",
    "    prevCSVcollection = FeatureLayerCollection.fromitem(prevCSV)\n",
    "    print(\"The table already exists in AGO\")\n",
    "    \n",
    "    # We will now replace the old data with new\n",
    "    prevCSVcollection.manager.overwrite(csvpath)\n",
    "    display\n",
    "\n",
    "else:\n",
    "    print(\"We have to upload it\")\n",
    "    csv_item = gis.content.add({}, csvpath)\n",
    "    display(csv_item)\n",
    "    csv_lyr = csv_item.publish()\n",
    "    display(csv_lyr)\n",
    "    \n",
    "tempdir.cleanup()\n",
    "print (\"The CSV has been published.\\nAll done, thanks for playing!\")"
   ]
  },
  {
   "cell_type": "code",
   "execution_count": null,
   "metadata": {},
   "outputs": [],
   "source": []
  },
  {
   "cell_type": "code",
   "execution_count": null,
   "metadata": {},
   "outputs": [],
   "source": []
  }
 ],
 "metadata": {
  "kernelspec": {
   "display_name": "Python 3",
   "language": "python",
   "name": "python3"
  },
  "language_info": {
   "codemirror_mode": {
    "name": "ipython",
    "version": 3
   },
   "file_extension": ".py",
   "mimetype": "text/x-python",
   "name": "python",
   "nbconvert_exporter": "python",
   "pygments_lexer": "ipython3",
   "version": "3.7.10"
  }
 },
 "nbformat": 4,
 "nbformat_minor": 2
}
