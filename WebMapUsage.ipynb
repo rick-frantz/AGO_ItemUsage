{
 "cells": [
  {
   "cell_type": "markdown",
   "metadata": {},
   "source": [
    "# ArcGIS Online Item Usage Audit\n",
    "\n",
    "Description: This will search the organization to find views over the specified time period.\n",
    " \n",
    "Created on: 3/16/2020\n",
    " \n",
    "Purpose: As organizations move infrastructure, it is appropriate to gauge how much old infrastructure was used and if it is apprpriate to replace. This script will help with that by providing the number of item views over a specified time. Optionally, through time, various items may be created in an ArcGIS Organization. To ensure items can be made authoritative or deprecated, the usage can be tracked.\n",
    " \n",
    "Authored by: Rick Frantz"
   ]
  },
  {
   "cell_type": "markdown",
   "metadata": {},
   "source": [
    "# Connect to ArcGIS Online"
   ]
  },
  {
   "cell_type": "code",
   "execution_count": null,
   "metadata": {},
   "outputs": [],
   "source": [
    "# import\n",
    "from arcgis.gis import GIS\n",
    "import getpass\n",
    "from IPython.display import display\n",
    "from arcgis.mapping import WebMap\n",
    "\n",
    "# Connection Variables\n",
    "Organization = input(\"What's your oranization? \")\n",
    "User = input(\"What's your  username? \")\n",
    "Password = getpass.getpass('Password: ')\n",
    "\n",
    "# Connection \n",
    "gis = GIS(Organization, User, Password, verify_cert=False)\n",
    "gis\n",
    "Audit = gis.content.search(query=\"\", max_items = 10000)\n",
    "#Audit = gis.content.search(query=\"\", item_type=\"Web Map\", max_items = 10000)\n",
    "auditLen = len(Audit)\n",
    "if auditLen > 10000:\n",
    "    print(\"The maximum number of records has been reached.\")\n",
    "print(\"Found {} items to asses\".format(auditLen))\n",
    "\n",
    "# Get the date of 30 days ago\n",
    "from datetime import datetime, timedelta\n",
    "tday = datetime.now().date()\n",
    "lastMonth = datetime.today() - timedelta(days=31) # because time is maintained, 31 days in query = 30 days of data\n",
    "\n",
    "# Create the pandas dataframe\n",
    "import pandas as pd\n",
    "dataColumns = ['ItemTitle','ItemID','ItemType','Owner','Year_Views','Month_Views','LastUsed','Last_Searched']\n",
    "df = pd.DataFrame(columns = dataColumns)\n",
    "lused = None\n",
    "\n",
    "# get list of item ids\n",
    "prevIDs = []"
   ]
  },
  {
   "cell_type": "markdown",
   "metadata": {},
   "source": [
    "# Past Results to Import?"
   ]
  },
  {
   "cell_type": "code",
   "execution_count": null,
   "metadata": {},
   "outputs": [],
   "source": [
    "# variable for path? user input to get path?\n",
    "\n",
    "prvdf = pd.read_csv (r'E:/AGO_ItemUsage.csv')\n",
    "\n",
    "if (df.columns == prvdf.columns).all:\n",
    "\n",
    "    # code to drop if too old\n",
    "    prvdf['Last_Searched'] = pd.to_datetime(prvdf['Last_Searched']) # Convert the date to datetime64 \n",
    "    filtered_df = prvdf.loc[(prvdf['Last_Searched'] >= '2021-01-01')] # Filter data by date\n",
    "\n",
    "    prevIDs = filtered_df['ItemID'].tolist()\n",
    "\n",
    "    print(\"Initially found {} items to asses in AGO\".format(auditLen))\n",
    "    print(\"A csv containing {} items previously assessed was provided\".format(prvdf.shape[0]))\n",
    "    print(\"This csv was limited to {} items already recently assessed\".format(filtered_df.shape[0]))\n",
    "\n",
    "    df = filtered_df\n",
    "    \n",
    "else:\n",
    "    print(\"The columns of the previous csv don't match current columns\")"
   ]
  },
  {
   "cell_type": "markdown",
   "metadata": {},
   "source": [
    "# Audit Section"
   ]
  },
  {
   "cell_type": "code",
   "execution_count": null,
   "metadata": {
    "scrolled": true
   },
   "outputs": [],
   "source": [
    "# Get the number of views per item\n",
    "\n",
    "# Find the number of views\n",
    "for Item in Audit:\n",
    "    # print(\"Starting Item {}\".format(Item.id))\n",
    "    if Item.id not in prevIDs:\n",
    "        # print(\"The item has not been assessed recently\")\n",
    "        ItemID = Item.id\n",
    "        gisItem = gis.content.get(ItemID)\n",
    "        ydf = gisItem.usage(date_range='1Y', as_df=True)\n",
    "        if len(ydf.index) > 0:\n",
    "            ydf = ydf.loc[ydf['Usage']!=0]\n",
    "            ydf['Year_Views']=ydf['Usage'].sum()\n",
    "            yViews =(ydf.iloc[0]['Year_Views'])\n",
    "            lused = ydf['Date'].max()\n",
    "            ydf = ydf[(ydf['Date'] > lastMonth)]\n",
    "            if len(ydf.index) > 0:\n",
    "                ydf['Month_Views']=ydf['Usage'].sum()\n",
    "                mViews =(ydf.iloc[0]['Month_Views'])\n",
    "            else:\n",
    "                mViews = 0\n",
    "        else:\n",
    "            yViews = 0\n",
    "            mViews = 0\n",
    "\n",
    "        # Add the item record with views to the dataframe\n",
    "        df = df.append({\n",
    "        'ItemTitle':str(Item.title.replace(\",\", \"\")),\n",
    "        'ItemID':str(Item.id),\n",
    "        'ItemType':str(Item.type),\n",
    "        'Owner':str(Item.owner),\n",
    "        'Year_Views':yViews,\n",
    "        'Month_Views':mViews,\n",
    "        'LastUsed':lused,\n",
    "        'Last_Searched':tday\n",
    "        }, ignore_index=True)\n",
    "\n",
    "        # A little cleanup\n",
    "        del yViews\n",
    "        del mViews\n",
    "        lused = None\n",
    "        ydf = ydf.iloc[0:0]\n",
    "    else:\n",
    "        # print(\"Item already assessed recently\")\n",
    "        pass\n",
    "\n",
    "df.drop_duplicates(subset=dataColumns,inplace=True)\n",
    "df"
   ]
  },
  {
   "cell_type": "markdown",
   "metadata": {},
   "source": [
    "# Write the Audit Results to CSV"
   ]
  },
  {
   "cell_type": "code",
   "execution_count": null,
   "metadata": {},
   "outputs": [],
   "source": [
    "from tkinter.filedialog import asksaveasfilename\n",
    "filename = asksaveasfilename(defaultextension='.csv') # show an \"Open\" dialog box and return the path to the selected file\n",
    "print(filename)\n",
    "df.to_csv(filename, index=False)\n",
    "print(\"Write data To CSV File Complete!\")"
   ]
  },
  {
   "cell_type": "markdown",
   "metadata": {},
   "source": [
    "# Upload to AGO"
   ]
  },
  {
   "cell_type": "code",
   "execution_count": null,
   "metadata": {},
   "outputs": [],
   "source": [
    "# would be nice to check initially if it exists in AGO and use that to build the df. update when finished\n",
    "\n",
    "prevCSV = gis.content.search(query=\"AGOitemUsage\", item_type=\"csv\", max_items = 1)\n",
    "if prevCSV:\n",
    "    print(\"Found a previous csv in AGO\")\n",
    "    prevCSV = prevCSV[0]\n",
    "    display(prevCSV)\n",
    "    from arcgis.features import FeatureLayerCollection\n",
    "    testfile_collection = FeatureLayerCollection.fromitem(testfile)\n",
    "    print(\"The table already exists\")\n",
    "    \n",
    "    # left off here- need to create the (hopefully virtual) csv to use to update the service\n",
    "    testfile_collection.manager.overwrite(csvfile)\n",
    "    display\n",
    "else:\n",
    "    print(\"We have to upload it\")\n",
    "    csv_item = gis.content.add({}, csvfile)\n",
    "    display(csv_item)\n",
    "    csv_lyr = csv_item.publish()\n",
    "    display(csv_lyr)\n",
    "print (\"The CSV has been published.\\nAll done, thanks for playing!\")"
   ]
  },
  {
   "cell_type": "code",
   "execution_count": null,
   "metadata": {},
   "outputs": [],
   "source": [
    "df"
   ]
  },
  {
   "cell_type": "code",
   "execution_count": null,
   "metadata": {},
   "outputs": [],
   "source": []
  }
 ],
 "metadata": {
  "kernelspec": {
   "display_name": "Python 3",
   "language": "python",
   "name": "python3"
  },
  "language_info": {
   "codemirror_mode": {
    "name": "ipython",
    "version": 3
   },
   "file_extension": ".py",
   "mimetype": "text/x-python",
   "name": "python",
   "nbconvert_exporter": "python",
   "pygments_lexer": "ipython3",
   "version": "3.7.9"
  }
 },
 "nbformat": 4,
 "nbformat_minor": 2
}
