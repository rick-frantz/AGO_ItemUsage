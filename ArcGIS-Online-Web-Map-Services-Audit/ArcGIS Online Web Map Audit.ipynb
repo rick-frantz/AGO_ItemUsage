{
 "cells": [
  {
   "cell_type": "markdown",
   "metadata": {},
   "source": [
    "# ArcGIS Online Web Map Audit\n",
    "\n",
    "Description: This will audit all of the webmaps in an organization.\n",
    " \n",
    "Beginning with: AGOWebMapAuditPythonAPI.py\n",
    " \n",
    "Created on: 2/13/2018\n",
    " \n",
    "Purpose: The AGO Web Map Audit loops through all of the web maps in an organization and loops through the layers within the web map and creates an excel sheet that lists all of the map service urls within each web map, as well as, comparing the sharing status between the Webmap and Layers. \n",
    " \n",
    "Authored by: Joe Guzi\n",
    " \n",
    "Previous Production Date: 9/3/18      Production Date: 12/26/18"
   ]
  },
  {
   "cell_type": "markdown",
   "metadata": {},
   "source": [
    "# Connect to ArcGIS Online"
   ]
  },
  {
   "cell_type": "code",
   "execution_count": 2,
   "metadata": {},
   "outputs": [
    {
     "name": "stdout",
     "output_type": "stream",
     "text": [
      "What's your oranization? https://dublinohio.maps.arcgis.com/\n",
      "What's your  username? DublinOhio\n",
      "Password: ········\n"
     ]
    }
   ],
   "source": [
    "# import\n",
    "from arcgis.gis import GIS\n",
    "from arcgis.gis.server import Server\n",
    "import getpass\n",
    "from IPython.display import display\n",
    "from arcgis.mapping import WebMap\n",
    "import json\n",
    "import requests\n",
    "import csv\n",
    "from tkinter.filedialog import asksaveasfilename\n",
    "\n",
    "# Connection Variables\n",
    "Organization = input(\"What's your oranization? \")\n",
    "User = input(\"What's your  username? \")\n",
    "Password = getpass.getpass('Password: ')\n",
    "\n",
    "# Connection \n",
    "gis = GIS(Organization, User, Password, verify_cert=False)\n",
    "gis\n",
    "Audit = gis.content.search(query=\"\", item_type=\"Web Map\", max_items = 10000)"
   ]
  },
  {
   "cell_type": "markdown",
   "metadata": {},
   "source": [
    "# Audit Section"
   ]
  },
  {
   "cell_type": "code",
   "execution_count": 3,
   "metadata": {},
   "outputs": [],
   "source": [
    "# Functions\n",
    "def CompareSharing(ItemAccess, LayerAccess):\n",
    "    Issue = \"No\"\n",
    "    \n",
    "    if ItemAccess == \"org\" and LayerAccess == \"private\":\n",
    "        Issue = \"Yes\"\n",
    "    elif ItemAccess == \"public\" and LayerAccess == \"private\":\n",
    "        Issue = \"Yes\"\n",
    "    elif ItemAccess == \"public\" and LayerAccess == \"org\":\n",
    "        Issue = \"Yes\"\n",
    "    elif ItemAccess == \"shared\":\n",
    "        Issue = \"Maybe\"\n",
    "    elif LayerAccess == \"shared\":\n",
    "        Issue = \"Maybe\"\n",
    "    return Issue\n",
    "# End Function Section\n",
    "\n",
    "s = \"\"\n",
    "    \n",
    "for Item in Audit:\n",
    "    ItemTitle = str(Item[\"title\"].replace(',', \"\"))\n",
    "    ItemID = str(Item[\"id\"])\n",
    "    ItemType = str(Item[\"type\"])\n",
    "    ItemOwner = str(Item[\"owner\"])\n",
    "    ItemAccess = str(Item[\"access\"])\n",
    "    ItemData = Item.get_data(try_json=True)\n",
    "    for ItemInfo in ItemData:\n",
    "        # Layers\n",
    "        if ItemInfo == \"operationalLayers\":\n",
    "            layers = ItemData[\"operationalLayers\"]\n",
    "            for layer in layers:\n",
    "                #print (layer)\n",
    "                s += ItemTitle.replace(\",\", \"\") + \",\"\n",
    "                s += ItemID + \",\"\n",
    "                s += ItemType + \",\"\n",
    "                s += ItemOwner + \",\"\n",
    "                s += ItemAccess + \",\"\n",
    "                s += \"Operational Layer\" + \",\"\n",
    "                s += str(layer.get(\"id\")) + \",\"\n",
    "                s += str(layer.get(\"title\")).replace(\",\", \"\") + \",\"\n",
    "                s += str(layer.get(\"layerType\")) + \",\"\n",
    "                s += str(layer.get(\"visibility\")) + \",\"\n",
    "                LayerURL = str(layer.get('url'))\n",
    "                s += LayerURL + \",\"\n",
    "                LayerItemID = str(layer.get('itemId'))\n",
    "                if LayerItemID != \"None\":\n",
    "                    s += LayerItemID + \",\"\n",
    "                    LayerItem = gis.content.search(query='id:' + str(LayerItemID))\n",
    "                    if LayerItem != []:\n",
    "                        LayerAccess = str(LayerItem[0].get(\"access\"))\n",
    "                        s += LayerAccess + \",\"\n",
    "                        s += \"Yes\" + \",\"\n",
    "                        SharingIssue = CompareSharing(ItemAccess, LayerAccess)\n",
    "                        s += SharingIssue + \",\"\n",
    "                    else:\n",
    "                        s += \",\"\n",
    "                        s += \"No\" + \",\"\n",
    "                        s += \"Maybe\" + \",\"\n",
    "                else:\n",
    "                    s += \",\"\n",
    "                s += \"\\n\"\n",
    "        # Tables\n",
    "        if ItemInfo == \"tables\":\n",
    "            tables = ItemData[\"tables\"]\n",
    "            for table in tables:\n",
    "                #print (table)\n",
    "                s += ItemTitle.replace(\",\", \"\") + \",\"\n",
    "                s += ItemID + \",\"\n",
    "                s += ItemType + \",\"\n",
    "                s += ItemOwner + \",\"\n",
    "                s += ItemAccess + \",\"\n",
    "                s += \"Table\" + \",\"\n",
    "                s += str(table.get(\"id\")) + \",\"\n",
    "                s += str(table.get(\"title\")).replace(\",\", \"\") + \",\"\n",
    "                s += \",\"\n",
    "                s += \",\" \n",
    "                s += str(table.get(\"url\")) + \",\" #\"\" + \",\"\n",
    "                LayerItemID = str(table.get('itemId'))\n",
    "                if LayerItemID != \"None\":\n",
    "                    s += LayerItemID + \",\"\n",
    "                    LayerItem = gis.content.search(query='id:' + str(LayerItemID))\n",
    "                    if LayerItem != []:\n",
    "                        LayerAccess = str(LayerItem[0].get(\"access\"))\n",
    "                        s += LayerAccess + \",\"\n",
    "                        s += \"Yes\" + \",\"\n",
    "                        SharingIssue = CompareSharing(ItemAccess, LayerAccess)\n",
    "                        s += SharingIssue + \",\"\n",
    "                    else:\n",
    "                        s += \",\"\n",
    "                        s += \"No\" + \",\"\n",
    "                        s += \"Maybe\" + \",\"\n",
    "                else:\n",
    "                    s += \",\"\n",
    "                s += \"\\n\"\n",
    "        # Basemap\n",
    "        if ItemInfo == \"baseMap\":\n",
    "            basemaps = ItemData[\"baseMap\"]\n",
    "            BaseMapLayers = basemaps[\"baseMapLayers\"]\n",
    "            for basemaplayer in BaseMapLayers:\n",
    "                #print (basemaplayer)\n",
    "                s += ItemTitle.replace(\",\", \"\") + \",\"\n",
    "                s += ItemID + \",\"\n",
    "                s += ItemType + \",\"\n",
    "                s += ItemOwner + \",\"\n",
    "                s += ItemAccess + \",\"\n",
    "                s += \"Basemap\" + \",\"\n",
    "                s += str(basemaplayer.get(\"id\")) + \",\"\n",
    "                s += str(basemaplayer.get(\"title\")).replace(\",\", \"\") + \",\"\n",
    "                s += str(basemaplayer.get(\"layerType\")) + \",\"\n",
    "                s += \",\" \n",
    "                s += str(basemaplayer.get(\"url\")) + \",\"\n",
    "                LayerItemID = str(basemaplayer.get('itemId'))\n",
    "                if LayerItemID != \"None\":\n",
    "                    s += LayerItemID + \",\"\n",
    "                    LayerItem = gis.content.search(query='id:' + str(LayerItemID))\n",
    "                    if LayerItem != []:\n",
    "                        LayerAccess = str(LayerItem[0].get(\"access\"))\n",
    "                        s += LayerAccess + \",\"\n",
    "                        s += \"Yes\" + \",\"\n",
    "                        SharingIssue = CompareSharing(ItemAccess, LayerAccess)\n",
    "                        s += SharingIssue + \",\"\n",
    "                    else:\n",
    "                        s += \",\"\n",
    "                        s += \"No\" + \",\"\n",
    "                        s += \"Maybe\" + \",\"\n",
    "                else:\n",
    "                    s += \",\"\n",
    "                s += \"\\n\""
   ]
  },
  {
   "cell_type": "markdown",
   "metadata": {},
   "source": [
    "# Write the Audit Results to Excel"
   ]
  },
  {
   "cell_type": "code",
   "execution_count": 4,
   "metadata": {},
   "outputs": [
    {
     "name": "stdout",
     "output_type": "stream",
     "text": [
      "C:/Users/franrt/Desktop/WebMapAudit\n",
      "C:/Users/franrt/Desktop/WebMapAudit.csv\n",
      "Write data To CSV File\n",
      "Write data To CSV File Complete!\n"
     ]
    }
   ],
   "source": [
    "filename = asksaveasfilename() # show an \"Open\" dialog box and return the path to the selected file\n",
    "print(filename)\n",
    "csvfile = filename + \".csv\"\n",
    "print(csvfile)\n",
    "with open(csvfile, 'w') as output:\n",
    "    print (\"Write data To CSV File\")\n",
    "    output.write(\"MapTitle,MapId,ItemType,ItemOwner,ItemAccess,MapLocation,LayerID,LayerTitle,LayerType,LayerVisisbility,LayerURL,ItemID,LayerAccess,OrganizationalLayer,SharingIssue\\n\")\n",
    "    output.writelines(s)\n",
    "    print(\"Write data To CSV File Complete!\")"
   ]
  },
  {
   "cell_type": "markdown",
   "metadata": {},
   "source": [
    "# Upload to AGO"
   ]
  },
  {
   "cell_type": "code",
   "execution_count": null,
   "metadata": {},
   "outputs": [],
   "source": [
    "file = filename.rpartition('/')\n",
    "testfile = gis.content.search(query=\"title:\"+file[2], item_type=\"Feature Layer Collection\")\n",
    "if testfile:\n",
    "    print(\"Found the service\")\n",
    "    testfile = testfile[0]\n",
    "    display(testfile)\n",
    "    from arcgis.features import FeatureLayerCollection\n",
    "    testfile_collection = FeatureLayerCollection.fromitem(testfile)\n",
    "    print(\"The table already exists\")\n",
    "    testfile_collection.manager.overwrite(csvfile)\n",
    "    display\n",
    "else:\n",
    "    print(\"We have to upload it\")\n",
    "    csv_item = gis.content.add({}, csvfile)\n",
    "    display(csv_item)\n",
    "    csv_lyr = csv_item.publish()\n",
    "    display(csv_lyr)\n",
    "print (\"The CSV has been published.\\nAll done, thanks for playing!\")"
   ]
  },
  {
   "cell_type": "code",
   "execution_count": null,
   "metadata": {},
   "outputs": [],
   "source": []
  }
 ],
 "metadata": {
  "kernelspec": {
   "display_name": "Python 3",
   "language": "python",
   "name": "python3"
  },
  "language_info": {
   "codemirror_mode": {
    "name": "ipython",
    "version": 3
   },
   "file_extension": ".py",
   "mimetype": "text/x-python",
   "name": "python",
   "nbconvert_exporter": "python",
   "pygments_lexer": "ipython3",
   "version": "3.6.9"
  }
 },
 "nbformat": 4,
 "nbformat_minor": 2
}
