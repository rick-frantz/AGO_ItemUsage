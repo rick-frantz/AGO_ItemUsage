{
 "cells": [
  {
   "cell_type": "markdown",
   "metadata": {},
   "source": [
    "# ArcGIS Online Web Map Usage Audit\n",
    "\n",
    "Description: This will search the organization to find views over the specified time period.\n",
    " \n",
    "Created on: 3/16/2020\n",
    " \n",
    "Purpose: As organizations move infrastructure, it is appropriate to gauge how much old infrastructure was used and if it is apprpriate to replace. This script will help with that by providing the number of item views over a specified time. Optionally, through time, various items may be created in an ArcGIS Organization. To ensure items can be made authoritative or deprecated, the usage can be tracked.\n",
    " \n",
    "Authored by: Rick Frantz"
   ]
  },
  {
   "cell_type": "markdown",
   "metadata": {},
   "source": [
    "# Connect to ArcGIS Online"
   ]
  },
  {
   "cell_type": "code",
   "execution_count": null,
   "metadata": {},
   "outputs": [],
   "source": [
    "# import\n",
    "from arcgis.gis import GIS\n",
    "from arcgis.gis.server import Server\n",
    "import getpass\n",
    "from IPython.display import display\n",
    "from arcgis.mapping import WebMap\n",
    "import json\n",
    "import requests\n",
    "#import csv\n",
    "#from tkinter.filedialog import asksaveasfilename\n",
    "import pandas as pd\n",
    "\n",
    "# Connection Variables\n",
    "Organization = input(\"What's your oranization? \")\n",
    "User = input(\"What's your  username? \")\n",
    "Password = getpass.getpass('Password: ')\n",
    "\n",
    "# Time length to be analyzed\n",
    "timeLen = '1Y'\n",
    "\n",
    "# Connection \n",
    "gis = GIS(Organization, User, Password, verify_cert=False)\n",
    "gis\n",
    "Audit = gis.content.search(query=\"\", item_type=\"Web Map\", max_items = 10)"
   ]
  },
  {
   "cell_type": "markdown",
   "metadata": {},
   "source": [
    "# Audit Section"
   ]
  },
  {
   "cell_type": "code",
   "execution_count": null,
   "metadata": {
    "scrolled": true
   },
   "outputs": [],
   "source": [
    "Audit = gis.content.search(query=\"\", max_items = 4)\n",
    "\n",
    "dataColumns = ['ItemTitle','ItemID','ItemType','Owner','Views']\n",
    "df = pd.DataFrame(columns = dataColumns)\n",
    "\n",
    "for Item in Audit:\n",
    "    #print(\"Starting Item {}\".format(Item.id))\n",
    "\n",
    "    ItemID = Item.id\n",
    "    gisItem = gis.content.get(ItemID)\n",
    "    gisItem\n",
    "    idf = gisItem.usage(date_range=timeLen, as_df=True)\n",
    "    idf['Views']=idf['Usage'].sum()\n",
    "    if len(idf.index) > 0:\n",
    "        iViews =(idf.iloc[0]['Views'])\n",
    "        print(iViews)\n",
    "        print(\"Length of idf {}\".format(len(idf.index)))\n",
    "        idf.drop(idf.index[0:])\n",
    "        print(\"Now idf is {}\".format(len(idf.index)))\n",
    "    else:\n",
    "        iViews = 0\n",
    "\n",
    "    df = df.append({\n",
    "    'ItemTitle':str(Item.title.replace(\",\", \"\")),\n",
    "    'ItemID':str(Item.id),\n",
    "    'ItemType':str(Item.type),\n",
    "    'Owner':str(Item.owner),\n",
    "    'Views':iViews\n",
    "    }, ignore_index=True)\n",
    "    del iViews\n",
    "    if len(idf.index) > 0:\n",
    "        #idf.drop(idf.index[0])\n",
    "        pass\n",
    "\n",
    "df.drop_duplicates(subset=dataColumns,inplace=True)\n",
    "df"
   ]
  },
  {
   "cell_type": "code",
   "execution_count": null,
   "metadata": {},
   "outputs": [],
   "source": [
    "for i in Audit:\n",
    "    ItemID = i.id\n",
    "    gisItem = gis.content.get(ItemID)\n",
    "    idf = gisItem.usage(date_range='1Y', as_df=True)\n",
    "    idf['Views']=idf['Usage'].sum()\n",
    "    iViews =(idf.iloc[0]['Views'])\n",
    "    print(iViews)\n",
    "idf"
   ]
  },
  {
   "cell_type": "markdown",
   "metadata": {},
   "source": [
    "# Write the Audit Results to Excel"
   ]
  },
  {
   "cell_type": "code",
   "execution_count": null,
   "metadata": {},
   "outputs": [],
   "source": [
    "from tkinter.filedialog import asksaveasfilename\n",
    "filename = asksaveasfilename(defaultextension='.csv') # show an \"Open\" dialog box and return the path to the selected file\n",
    "print(filename)\n",
    "df.to_csv(filename, index=False)\n",
    "print(\"Write data To CSV File Complete!\")"
   ]
  },
  {
   "cell_type": "markdown",
   "metadata": {},
   "source": [
    "# Upload to AGO"
   ]
  },
  {
   "cell_type": "code",
   "execution_count": null,
   "metadata": {},
   "outputs": [],
   "source": [
    "file = filename.rpartition('/')\n",
    "testfile = gis.content.search(query=\"title:\"+file[2], item_type=\"Feature Layer Collection\")\n",
    "if testfile:\n",
    "    print(\"Found the service\")\n",
    "    testfile = testfile[0]\n",
    "    display(testfile)\n",
    "    from arcgis.features import FeatureLayerCollection\n",
    "    testfile_collection = FeatureLayerCollection.fromitem(testfile)\n",
    "    print(\"The table already exists\")\n",
    "    testfile_collection.manager.overwrite(csvfile)\n",
    "    display\n",
    "else:\n",
    "    print(\"We have to upload it\")\n",
    "    csv_item = gis.content.add({}, csvfile)\n",
    "    display(csv_item)\n",
    "    csv_lyr = csv_item.publish()\n",
    "    display(csv_lyr)\n",
    "print (\"The CSV has been published.\\nAll done, thanks for playing!\")"
   ]
  },
  {
   "cell_type": "code",
   "execution_count": null,
   "metadata": {},
   "outputs": [],
   "source": []
  }
 ],
 "metadata": {
  "kernelspec": {
   "display_name": "Python 3",
   "language": "python",
   "name": "python3"
  },
  "language_info": {
   "codemirror_mode": {
    "name": "ipython",
    "version": 3
   },
   "file_extension": ".py",
   "mimetype": "text/x-python",
   "name": "python",
   "nbconvert_exporter": "python",
   "pygments_lexer": "ipython3",
   "version": "3.6.9"
  }
 },
 "nbformat": 4,
 "nbformat_minor": 2
}
